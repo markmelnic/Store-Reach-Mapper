{
 "cells": [
  {
   "cell_type": "code",
   "execution_count": null,
   "metadata": {},
   "outputs": [],
   "source": [
    "# import libraries\n",
    "import gmaps\n",
    "import pandas as pd\n",
    "import gmaps.datasets"
   ]
  },
  {
   "cell_type": "code",
   "execution_count": null,
   "metadata": {},
   "outputs": [],
   "source": [
    "# get API key\n",
    "with open(\"key.txt\", mode='r') as keyfile:\n",
    "    key = keyfile.read().splitlines()\n",
    "    keyfile.close()\n",
    "gmaps.configure(api_key = key[1])"
   ]
  },
  {
   "cell_type": "code",
   "execution_count": null,
   "metadata": {},
   "outputs": [],
   "source": [
    "# import data and generate variables\n",
    "markets = pd.read_csv('linella_markets.csv')\n",
    "\n",
    "weights = []\n",
    "#weights = markets[1 for i in range(len(markets))]\n",
    "for i in range(len(markets)):\n",
    "    weights.append(1)\n",
    "\n",
    "locations = markets[['latitude', 'longitude']]"
   ]
  },
  {
   "cell_type": "code",
   "execution_count": null,
   "metadata": {},
   "outputs": [],
   "source": [
    "# generate maps figure\n",
    "fig = gmaps.figure()\n",
    "fig.add_layer(gmaps.heatmap_layer(locations, weights=weights))\n",
    "fig"
   ]
  }
 ],
 "metadata": {
  "kernelspec": {
   "display_name": "Python 3.8.2 32-bit",
   "language": "python",
   "name": "python38232bitfda037c17bce4f418b14e10bd5e831da"
  },
  "language_info": {
   "codemirror_mode": {
    "name": "ipython",
    "version": 3
   },
   "file_extension": ".py",
   "mimetype": "text/x-python",
   "name": "python",
   "nbconvert_exporter": "python",
   "pygments_lexer": "ipython3",
   "version": "3.8.2-final"
  }
 },
 "nbformat": 4,
 "nbformat_minor": 4
}