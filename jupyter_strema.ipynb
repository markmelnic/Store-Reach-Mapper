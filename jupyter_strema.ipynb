{
 "cells": [
  {
   "cell_type": "code",
   "execution_count": 1,
   "metadata": {},
   "outputs": [],
   "source": [
    "# import libraries\n",
    "import gmaps\n",
    "import pandas as pd\n",
    "import gmaps.datasets"
   ]
  },
  {
   "cell_type": "code",
   "execution_count": 2,
   "metadata": {},
   "outputs": [],
   "source": [
    "# get API key\n",
    "from key import *\n",
    "gmaps.configure(api_key = API_KEY2)"
   ]
  },
  {
   "cell_type": "code",
   "execution_count": 3,
   "metadata": {},
   "outputs": [],
   "source": [
    "# import data and generate variables\n",
    "markets = pd.read_csv('linella_markets.csv')\n",
    "\n",
    "weights = []\n",
    "#weights = markets[1 for i in range(len(markets))]\n",
    "for i in range(len(markets)):\n",
    "    weights.append(1)\n",
    "\n",
    "locations = markets[['latitude', 'longitude']]"
   ]
  },
  {
   "cell_type": "code",
   "execution_count": 4,
   "metadata": {},
   "outputs": [
    {
     "output_type": "display_data",
     "data": {
      "text/plain": "Figure(layout=FigureLayout(height='420px'))",
      "application/vnd.jupyter.widget-view+json": {
       "version_major": 2,
       "version_minor": 0,
       "model_id": "23fe1c1f0e0a43d4b0186e5dd5caf62d"
      }
     },
     "metadata": {}
    }
   ],
   "source": [
    "# generate maps figure\n",
    "fig = gmaps.figure()#map_type = \"HYBRID\")\n",
    "heatmap_layer = gmaps.heatmap_layer(locations)#, weights = weights)\n",
    "fig.add_layer(heatmap_layer)\n",
    "fig"
   ]
  },
  {
   "cell_type": "code",
   "execution_count": 5,
   "metadata": {},
   "outputs": [],
   "source": [
    "heatmap_layer.max_intensity = max(weights) * 4\n",
    "heatmap_layer.point_radius = len(weights) / 2"
   ]
  }
 ],
 "metadata": {
  "kernelspec": {
   "display_name": "Python 3.8.2 32-bit",
   "language": "python",
   "name": "python38232bitfda037c17bce4f418b14e10bd5e831da"
  },
  "language_info": {
   "codemirror_mode": {
    "name": "ipython",
    "version": 3
   },
   "file_extension": ".py",
   "mimetype": "text/x-python",
   "name": "python",
   "nbconvert_exporter": "python",
   "pygments_lexer": "ipython3",
   "version": "3.8.2-final"
  }
 },
 "nbformat": 4,
 "nbformat_minor": 4
}